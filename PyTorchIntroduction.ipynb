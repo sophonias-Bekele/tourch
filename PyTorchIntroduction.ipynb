{
 "cells": [
  {
   "cell_type": "code",
   "execution_count": 3,
   "id": "94006bd3-aa3e-4f7e-9823-adcb0e24316a",
   "metadata": {},
   "outputs": [],
   "source": [
    "import torch\n",
    "import numpy as np"
   ]
  },
  {
   "cell_type": "code",
   "execution_count": 4,
   "id": "72435970-33b7-4050-bf9a-7a6c99327bf9",
   "metadata": {},
   "outputs": [
    {
     "data": {
      "text/plain": [
       "tensor([[2, 3, 5],\n",
       "        [1, 2, 9]])"
      ]
     },
     "execution_count": 4,
     "metadata": {},
     "output_type": "execute_result"
    }
   ],
   "source": [
    "torch.tensor([[2, 3, 5], [1, 2, 9]])"
   ]
  },
  {
   "cell_type": "code",
   "execution_count": 5,
   "id": "31fd8bd9-a4b3-4f51-9f04-2a945fbec622",
   "metadata": {},
   "outputs": [
    {
     "data": {
      "text/plain": [
       "array([[2, 3, 5],\n",
       "       [1, 2, 9]])"
      ]
     },
     "execution_count": 5,
     "metadata": {},
     "output_type": "execute_result"
    }
   ],
   "source": [
    "np.array([[2, 3, 5], [1, 2, 9]])"
   ]
  },
  {
   "cell_type": "markdown",
   "id": "784661c5-bf32-4050-a4a0-50034f15558e",
   "metadata": {},
   "source": [
    "#### random matrices"
   ]
  },
  {
   "cell_type": "code",
   "execution_count": 6,
   "id": "f0b78b52-f1a0-49c3-9a32-c163dc07dcc2",
   "metadata": {},
   "outputs": [
    {
     "data": {
      "text/plain": [
       "tensor([[0.1439, 0.5225],\n",
       "        [0.2509, 0.8332]])"
      ]
     },
     "execution_count": 6,
     "metadata": {},
     "output_type": "execute_result"
    }
   ],
   "source": [
    "torch.rand(2, 2)"
   ]
  },
  {
   "cell_type": "code",
   "execution_count": 7,
   "id": "eb9d63fd-76b5-4d77-bcad-6f3bd2a4827e",
   "metadata": {},
   "outputs": [
    {
     "data": {
      "text/plain": [
       "array([[0.90051564, 0.43081047],\n",
       "       [0.20232469, 0.82030371]])"
      ]
     },
     "execution_count": 7,
     "metadata": {},
     "output_type": "execute_result"
    }
   ],
   "source": [
    "np.random.rand(2,2)"
   ]
  },
  {
   "cell_type": "markdown",
   "id": "7e49a81f-bf60-4ece-b85f-8e8fca312fe4",
   "metadata": {},
   "source": [
    "#### shape"
   ]
  },
  {
   "cell_type": "code",
   "execution_count": 8,
   "id": "cd9931f6-b5c6-44f2-91e9-c704b3344233",
   "metadata": {},
   "outputs": [],
   "source": [
    "a = torch.rand((3,5))"
   ]
  },
  {
   "cell_type": "code",
   "execution_count": 9,
   "id": "6009b76c-e6a7-46e5-a6c2-0e3e8e4b6db1",
   "metadata": {},
   "outputs": [
    {
     "data": {
      "text/plain": [
       "torch.Size([3, 5])"
      ]
     },
     "execution_count": 9,
     "metadata": {},
     "output_type": "execute_result"
    }
   ],
   "source": [
    "a.shape"
   ]
  },
  {
   "cell_type": "code",
   "execution_count": 10,
   "id": "a1755ab8-c49d-4fd2-8338-16dde93e7ac3",
   "metadata": {},
   "outputs": [],
   "source": [
    "a = np.random.randn(3, 5)"
   ]
  },
  {
   "cell_type": "code",
   "execution_count": 11,
   "id": "2db36e30-a5bf-4f0f-81b9-9c9e86aea28b",
   "metadata": {},
   "outputs": [
    {
     "data": {
      "text/plain": [
       "(3, 5)"
      ]
     },
     "execution_count": 11,
     "metadata": {},
     "output_type": "execute_result"
    }
   ],
   "source": [
    "a.shape"
   ]
  },
  {
   "cell_type": "markdown",
   "id": "755565fd-9e38-4a1b-a1e3-5921389d2279",
   "metadata": {},
   "source": [
    "#### Matrix Multiplication"
   ]
  },
  {
   "cell_type": "markdown",
   "id": "ef769c00-90c9-4a12-b5de-4bd990a34de3",
   "metadata": {},
   "source": [
    "a = torch.rand(2, 2)\n",
    "b = torch.rand(2, 2)"
   ]
  },
  {
   "cell_type": "code",
   "execution_count": 13,
   "id": "85c843a1-e94e-47b5-8e76-dacee2b29390",
   "metadata": {},
   "outputs": [
    {
     "data": {
      "text/plain": [
       "tensor([[0.3079, 0.4036],\n",
       "        [0.7007, 0.8585]])"
      ]
     },
     "execution_count": 13,
     "metadata": {},
     "output_type": "execute_result"
    }
   ],
   "source": [
    "torch.matmul(a,b)"
   ]
  },
  {
   "cell_type": "code",
   "execution_count": 15,
   "id": "ea84c00d-ca6b-40d2-af64-1bb0d2bb2272",
   "metadata": {},
   "outputs": [],
   "source": [
    "a = np.random.rand(2,2)\n",
    "b = np.random.rand(2,2)"
   ]
  },
  {
   "cell_type": "code",
   "execution_count": 16,
   "id": "68a06390-681b-4d0f-a1f3-de752034791e",
   "metadata": {},
   "outputs": [
    {
     "data": {
      "text/plain": [
       "array([[1.19707128, 0.86919457],\n",
       "       [0.71560889, 0.27563991]])"
      ]
     },
     "execution_count": 16,
     "metadata": {},
     "output_type": "execute_result"
    }
   ],
   "source": [
    "np.dot(a,b)"
   ]
  },
  {
   "cell_type": "markdown",
   "id": "b78d5acc-599c-467e-b9b6-fa81e1a3827c",
   "metadata": {},
   "source": [
    "#### ones and zeros"
   ]
  },
  {
   "cell_type": "code",
   "execution_count": 18,
   "id": "4c5a6cee-c25c-46b5-b6bb-7a2b38a938a0",
   "metadata": {},
   "outputs": [
    {
     "data": {
      "text/plain": [
       "tensor([[0., 0.],\n",
       "        [0., 0.]])"
      ]
     },
     "execution_count": 18,
     "metadata": {},
     "output_type": "execute_result"
    }
   ],
   "source": [
    "torch.zeros(2, 2)"
   ]
  },
  {
   "cell_type": "code",
   "execution_count": 19,
   "id": "109732ad-8713-4726-a2be-34f30315ef2c",
   "metadata": {},
   "outputs": [
    {
     "data": {
      "text/plain": [
       "tensor([[1., 1.],\n",
       "        [1., 1.]])"
      ]
     },
     "execution_count": 19,
     "metadata": {},
     "output_type": "execute_result"
    }
   ],
   "source": [
    "torch.ones(2, 2)"
   ]
  },
  {
   "cell_type": "code",
   "execution_count": 20,
   "id": "368c1e5f-2fcd-49e1-9c7a-6a5a8f602f8d",
   "metadata": {},
   "outputs": [
    {
     "data": {
      "text/plain": [
       "tensor([[1., 0.],\n",
       "        [0., 1.]])"
      ]
     },
     "execution_count": 20,
     "metadata": {},
     "output_type": "execute_result"
    }
   ],
   "source": [
    "torch.eye(2)"
   ]
  },
  {
   "cell_type": "markdown",
   "id": "78ab9fa4-e042-459b-b6c3-8eb9680ee712",
   "metadata": {},
   "source": [
    "#### element wise operation"
   ]
  },
  {
   "cell_type": "code",
   "execution_count": 22,
   "id": "075ea4c0-0fa8-4b2c-948e-1d0e5cc8f5b3",
   "metadata": {},
   "outputs": [
    {
     "data": {
      "text/plain": [
       "array([[0.73800226, 0.19410595],\n",
       "       [0.38790017, 0.11162595]])"
      ]
     },
     "execution_count": 22,
     "metadata": {},
     "output_type": "execute_result"
    }
   ],
   "source": [
    "a * b"
   ]
  },
  {
   "cell_type": "markdown",
   "id": "a65c0303-ce07-461a-a77a-c9b66334afcc",
   "metadata": {},
   "source": [
    "### Forward Propagation"
   ]
  },
  {
   "cell_type": "code",
   "execution_count": 23,
   "id": "12163e7b-b0d5-4062-b62e-a45c8410363c",
   "metadata": {},
   "outputs": [],
   "source": [
    "a = torch.tensor([2])\n",
    "b = torch.tensor([-4])\n",
    "c = torch.tensor([-2])\n",
    "d = torch.tensor([2])"
   ]
  },
  {
   "cell_type": "code",
   "execution_count": 25,
   "id": "c0967fff-6fa7-4269-b633-2a3b3f932a05",
   "metadata": {},
   "outputs": [],
   "source": [
    "e = a + b\n",
    "f = c * d"
   ]
  },
  {
   "cell_type": "code",
   "execution_count": 26,
   "id": "34a376d9-f463-40f8-9942-284bc1530f7c",
   "metadata": {},
   "outputs": [],
   "source": [
    "g = e * f"
   ]
  },
  {
   "cell_type": "code",
   "execution_count": 27,
   "id": "9b0a4d10-0031-4e0c-9dc8-f623ace8c599",
   "metadata": {},
   "outputs": [
    {
     "name": "stdout",
     "output_type": "stream",
     "text": [
      "tensor([-2]) tensor([-4]) tensor([8])\n"
     ]
    }
   ],
   "source": [
    "print(e, f,g)"
   ]
  },
  {
   "cell_type": "markdown",
   "id": "76118ba2-5013-40b1-944e-7899ce9695c4",
   "metadata": {},
   "source": [
    "#### Backpropagation in pyTorch"
   ]
  },
  {
   "cell_type": "code",
   "execution_count": 28,
   "id": "bb37e049-cbc7-48c7-9508-593a57cfa9fd",
   "metadata": {},
   "outputs": [],
   "source": [
    "x = torch.tensor(-3., requires_grad=True)\n",
    "y = torch.tensor(5., requires_grad=True)\n",
    "z = torch.tensor(-2., requires_grad=True)"
   ]
  },
  {
   "cell_type": "code",
   "execution_count": 29,
   "id": "d51b88b1-5d53-40b0-aa08-e78f207845fa",
   "metadata": {},
   "outputs": [],
   "source": [
    "q = x + y\n",
    "f = q * z"
   ]
  },
  {
   "cell_type": "code",
   "execution_count": 30,
   "id": "326f8691-63d8-494b-ac13-662a91f5ba83",
   "metadata": {},
   "outputs": [],
   "source": [
    "f.backward()"
   ]
  },
  {
   "cell_type": "code",
   "execution_count": 33,
   "id": "10bf8fbc-daad-4220-b7d5-05aa61399e73",
   "metadata": {},
   "outputs": [
    {
     "name": "stdout",
     "output_type": "stream",
     "text": [
      "Gradient of z is: tensor(2.)\n",
      "Gradient of y is: tensor(-2.)\n",
      "Gradient of x is: tensor(-2.)\n"
     ]
    }
   ],
   "source": [
    "print(\"Gradient of z is: \" + str(z.grad))\n",
    "print(\"Gradient of y is: \" + str(y.grad))\n",
    "print(\"Gradient of x is: \" + str(x.grad))"
   ]
  },
  {
   "cell_type": "code",
   "execution_count": null,
   "id": "f74af890-e6cd-4497-9035-25f8e34010a8",
   "metadata": {},
   "outputs": [],
   "source": []
  }
 ],
 "metadata": {
  "kernelspec": {
   "display_name": "Python 3 (ipykernel)",
   "language": "python",
   "name": "python3"
  },
  "language_info": {
   "codemirror_mode": {
    "name": "ipython",
    "version": 3
   },
   "file_extension": ".py",
   "mimetype": "text/x-python",
   "name": "python",
   "nbconvert_exporter": "python",
   "pygments_lexer": "ipython3",
   "version": "3.11.5"
  }
 },
 "nbformat": 4,
 "nbformat_minor": 5
}
