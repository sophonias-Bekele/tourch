{
  "cells": [
    {
      "cell_type": "markdown",
      "metadata": {
        "id": "a8s0nL4HJXiK"
      },
      "source": [
        "# Assigmnet 1\n",
        "\n",
        "<hr>\n",
        "\n",
        "In this assignment , construct the [GoogleNet](https://arxiv.org/abs/1409.4842)/Inception architecture reconstructed from scratch for fit outdata as outlined. This entails creating a neural network model that proved successful in the ILSVRC 2014 competition. The objective is to train this model on the FashionMNIST dataset, a collection of grayscale images depicting fashion items, encompassing various categories like shoes and clothing.\n",
        "\n",
        "To ensure optimal model training, it is imperative to implement data normalization. This involves adjusting the pixel values of the images to a standardized range, promoting convergence during training. Additionally, PyTorch data loader implementation is necessary for efficient handling of the dataset, enabling seamless batch processing.\n",
        "\n",
        "During the training phase, employ the Adam optimizer, a widely used optimization algorithm, with a learning rate set at 0.01. Training should span minimum of 50 epochs, each epoch representing a full iteration through the dataset. This extended training duration aims to enhance the ability of the model to discern patterns and features within the FashionMNIST dataset.\n",
        "\n",
        "To evaluate the performance of the model, plot both the training and test error loss. These plots serve as visual indicators of the learning progress and generalization capabilities of the model.  Analyzing these curves can offer insights into potential adjustments or improvements needed in the model architecture or training parameters.\n",
        "\n",
        "Lastly, for  ease of access, save the completed notebook to your Google Drive. Once the assignment is finished, share the notebook with mesfin.diro@aau.edu.et via Colab.\n",
        "\n",
        "<hr>\n",
        "\n",
        "20%\n"
      ]
    },
    {
      "cell_type": "markdown",
      "metadata": {
        "id": "jxZT0QAwPAWL"
      },
      "source": [
        "## Tip: Use GPU Acceleration\n",
        "\n",
        "To running this notebook in Google Colab with GPU, navigate to `Edit` -> `Notebook settings` -> `Hardware accelerator`, set it to `GPU`, and then click `Save`. This will ensure your notebook uses a GPU, which will significantly speed up model training times."
      ]
    },
    {
      "cell_type": "markdown",
      "metadata": {
        "id": "LNnjo-cbPaYE"
      },
      "source": [
        "Let's make sure that we have access to GPU. We can use nvidia-smi command to do that. In case of any problems navigate to Edit -> Notebook settings -> Hardware accelerator, set it to GPU, and then click Save."
      ]
    },
    {
      "cell_type": "code",
      "execution_count": null,
      "metadata": {
        "colab": {
          "base_uri": "https://localhost:8080/"
        },
        "id": "DGNdphZMPdQb",
        "outputId": "b06c0af7-ecf0-46cf-87bb-28796d31d43f"
      },
      "outputs": [
        {
          "output_type": "stream",
          "name": "stdout",
          "text": [
            "Wed Nov 29 09:27:36 2023       \n",
            "+-----------------------------------------------------------------------------+\n",
            "| NVIDIA-SMI 525.105.17   Driver Version: 525.105.17   CUDA Version: 12.0     |\n",
            "|-------------------------------+----------------------+----------------------+\n",
            "| GPU  Name        Persistence-M| Bus-Id        Disp.A | Volatile Uncorr. ECC |\n",
            "| Fan  Temp  Perf  Pwr:Usage/Cap|         Memory-Usage | GPU-Util  Compute M. |\n",
            "|                               |                      |               MIG M. |\n",
            "|===============================+======================+======================|\n",
            "|   0  Tesla T4            Off  | 00000000:00:04.0 Off |                    0 |\n",
            "| N/A   75C    P0    32W /  70W |      0MiB / 15360MiB |      0%      Default |\n",
            "|                               |                      |                  N/A |\n",
            "+-------------------------------+----------------------+----------------------+\n",
            "                                                                               \n",
            "+-----------------------------------------------------------------------------+\n",
            "| Processes:                                                                  |\n",
            "|  GPU   GI   CI        PID   Type   Process name                  GPU Memory |\n",
            "|        ID   ID                                                   Usage      |\n",
            "|=============================================================================|\n",
            "|  No running processes found                                                 |\n",
            "+-----------------------------------------------------------------------------+\n"
          ]
        }
      ],
      "source": [
        "!nvidia-smi"
      ]
    },
    {
      "cell_type": "markdown",
      "metadata": {
        "id": "u6I4NbvdPvSI"
      },
      "source": [
        "## Explore the current directory on your colab"
      ]
    },
    {
      "cell_type": "code",
      "execution_count": null,
      "metadata": {
        "colab": {
          "base_uri": "https://localhost:8080/"
        },
        "id": "-5owiHU-P74H",
        "outputId": "8773e5a9-5525-4c06-caf4-5251e6ab0a54"
      },
      "outputs": [
        {
          "output_type": "stream",
          "name": "stdout",
          "text": [
            "/content\n"
          ]
        }
      ],
      "source": [
        "import os\n",
        "HOME = os.getcwd()\n",
        "print(HOME)"
      ]
    },
    {
      "cell_type": "code",
      "execution_count": null,
      "metadata": {
        "colab": {
          "base_uri": "https://localhost:8080/"
        },
        "id": "fsJlbeMgQEcl",
        "outputId": "45d28a0a-71d2-47fd-96e6-63ce93cb64c9"
      },
      "outputs": [
        {
          "output_type": "stream",
          "name": "stdout",
          "text": [
            "/content\n"
          ]
        }
      ],
      "source": [
        "%cd {HOME}"
      ]
    },
    {
      "cell_type": "code",
      "execution_count": null,
      "metadata": {
        "id": "Z7Osn8mnOKtV"
      },
      "outputs": [],
      "source": [
        "#!pip install package\n",
        "import os\n",
        "import numpy as np\n",
        "import random\n",
        "from PIL import Image\n",
        "import torch\n",
        "import torch.nn as nn\n",
        "import torch.utils.data as data\n",
        "import torch.optim as optim\n",
        "import torchvision\n",
        "from torchvision.datasets import FashionMNIST\n",
        "from torchvision import transforms\n",
        "import matplotlib.pyplot as plt\n",
        "%matplotlib inline\n",
        "from IPython.display import set_matplotlib_formats\n",
        "import matplotlib\n",
        "matplotlib.rcParams['lines.linewidth'] = 2.0\n",
        "import seaborn as sns\n",
        "from torchvision.models import Inception3\n",
        "import torch.nn.functional as F\n",
        "sns.reset_orig()\n"
      ]
    },
    {
      "cell_type": "code",
      "execution_count": null,
      "metadata": {
        "id": "IsyjDoEdoviG"
      },
      "outputs": [],
      "source": [
        "transform = transforms.Compose(\n",
        "    [transforms.ToTensor(),\n",
        "     transforms.Normalize((0.5),\n",
        "                          (0.5))])"
      ]
    },
    {
      "cell_type": "code",
      "execution_count": null,
      "metadata": {
        "id": "JxD2X4ApoviI"
      },
      "outputs": [],
      "source": [
        "trainset = FashionMNIST(root='./fm_data', train=True,\n",
        "                                        download=True, transform=transform)\n",
        "\n",
        "testset = FashionMNIST(root='./fm_data', train=False,\n",
        "                                       download=True, transform=transform)"
      ]
    },
    {
      "cell_type": "code",
      "execution_count": null,
      "metadata": {
        "id": "775g3C-VoviK"
      },
      "outputs": [],
      "source": [
        "trainloader = torch.utils.data.DataLoader(trainset, batch_size=140,\n",
        "                                          shuffle=True, num_workers=2)\n",
        "\n",
        "testloader = torch.utils.data.DataLoader(testset, batch_size=140,\n",
        "                                         shuffle=False, num_workers=2)"
      ]
    },
    {
      "cell_type": "code",
      "execution_count": null,
      "metadata": {
        "colab": {
          "base_uri": "https://localhost:8080/"
        },
        "id": "coUS-syxOfQB",
        "outputId": "f6921842-0507-4b90-9423-1a20b02d3900"
      },
      "outputs": [
        {
          "output_type": "stream",
          "name": "stdout",
          "text": [
            "cuda:0\n"
          ]
        }
      ],
      "source": [
        "# Path to the folder where the datasets are/should be downloaded (e.g. CIFAR10)\n",
        "DATASET_PATH = \"./fm_data\"\n",
        "# Path to the folder where the pretrained models are saved\n",
        "CHECKPOINT_PATH = \"./pretrained_model_II\"\n",
        "\n",
        "# Function for setting the seed\n",
        "def set_seed(seed):\n",
        "    random.seed(seed)\n",
        "    np.random.seed(seed)\n",
        "    torch.manual_seed(seed)\n",
        "    if torch.cuda.is_available():\n",
        "        torch.cuda.manual_seed(seed)\n",
        "        torch.cuda.manual_seed_all(seed)\n",
        "set_seed(42)\n",
        "\n",
        "# Ensure that all operations are deterministic on GPU (if used) for reproducibility\n",
        "torch.backends.cudnn.deterministic = True\n",
        "torch.backends.cudnn.benchmark = False\n",
        "device = torch.device(\"cuda:0\") if torch.cuda.is_available() else torch.device(\"cpu\")\n",
        "print(device)"
      ]
    },
    {
      "cell_type": "code",
      "execution_count": null,
      "metadata": {
        "colab": {
          "base_uri": "https://localhost:8080/"
        },
        "id": "GYSv5RX7JIoY",
        "outputId": "614d0f0a-5888-463e-be5b-09fa129988e0"
      },
      "outputs": [
        {
          "output_type": "stream",
          "name": "stderr",
          "text": [
            "/usr/local/lib/python3.10/dist-packages/torchvision/models/inception.py:43: FutureWarning: The default weight initialization of inception_v3 will be changed in future releases of torchvision. If you wish to keep the old behavior (which leads to long initialization times due to scipy/scipy#11299), please set init_weights=True.\n",
            "  warnings.warn(\n"
          ]
        }
      ],
      "source": [
        "\n",
        "# Define InceptionNet model\n",
        "class InceptionNet(nn.Module):\n",
        "    def __init__(self, num_classes=10):\n",
        "        super(InceptionNet, self).__init__()\n",
        "        # Load the pre-trained Inception v3 model without the auxiliary logits\n",
        "        self.inception = Inception3(num_classes=num_classes, aux_logits=False)\n",
        "        # Modify the first convolution layer to accept 1 channel instead of 3 ( for channel 1 image)\n",
        "        self.inception.Conv2d_1a_3x3.conv = nn.Conv2d(1, 32, kernel_size=3, stride=2, bias=False)\n",
        "\n",
        "    def forward(self, x):\n",
        "        # Transform the input to meet Inception v3 requirements\n",
        "        x = F.interpolate(x, size=(299, 299), mode='bilinear', align_corners=False)\n",
        "        # Forward pass through Inception v3\n",
        "        return self.inception(x)\n",
        "\n",
        "#Initialize the InceptionNet model\n",
        "model = InceptionNet(num_classes=10)\n",
        "model = model.to(device)\n",
        "\n"
      ]
    },
    {
      "cell_type": "code",
      "execution_count": null,
      "metadata": {
        "id": "u_c2K3NtoviQ"
      },
      "outputs": [],
      "source": [
        "# Define the loss function and optimizer\n",
        "criterion = nn.CrossEntropyLoss()\n",
        "optimizer = optim.Adam(model.parameters(), lr=0.01)\n",
        "\n",
        "# Define the number of training epochs\n",
        "num_epochs = 20"
      ]
    },
    {
      "cell_type": "code",
      "execution_count": null,
      "metadata": {
        "colab": {
          "base_uri": "https://localhost:8080/",
          "height": 1000
        },
        "id": "romT1j1RoviT",
        "outputId": "8196f0a2-fc01-4575-bcf2-d1b0834b5440"
      },
      "outputs": [
        {
          "output_type": "stream",
          "name": "stdout",
          "text": [
            "Epoch [1/20], Loss: 0.9724, Accuracy: 0.6855\n",
            "Epoch [2/20], Loss: 0.4239, Accuracy: 0.8466\n",
            "Epoch [3/20], Loss: 0.3208, Accuracy: 0.8865\n",
            "Epoch [4/20], Loss: 0.2941, Accuracy: 0.8946\n",
            "Epoch [5/20], Loss: 0.2618, Accuracy: 0.9057\n",
            "Epoch [6/20], Loss: 0.2484, Accuracy: 0.9097\n",
            "Epoch [7/20], Loss: 0.2361, Accuracy: 0.9149\n",
            "Epoch [8/20], Loss: 0.2585, Accuracy: 0.9080\n",
            "Epoch [9/20], Loss: 0.2602, Accuracy: 0.9050\n",
            "Epoch [10/20], Loss: 0.2232, Accuracy: 0.9189\n",
            "Epoch [11/20], Loss: 0.2060, Accuracy: 0.9259\n",
            "Epoch [12/20], Loss: 0.1934, Accuracy: 0.9296\n",
            "Epoch [13/20], Loss: 0.1781, Accuracy: 0.9349\n",
            "Epoch [14/20], Loss: 0.1967, Accuracy: 0.9292\n",
            "Epoch [15/20], Loss: 0.1745, Accuracy: 0.9357\n",
            "Epoch [16/20], Loss: 0.1563, Accuracy: 0.9427\n",
            "Epoch [17/20], Loss: 0.1489, Accuracy: 0.9453\n",
            "Epoch [18/20], Loss: 0.1391, Accuracy: 0.9494\n",
            "Epoch [19/20], Loss: 0.2725, Accuracy: 0.9051\n",
            "Epoch [20/20], Loss: 0.1836, Accuracy: 0.9323\n"
          ]
        },
        {
          "output_type": "display_data",
          "data": {
            "text/plain": [
              "<Figure size 640x480 with 1 Axes>"
            ],
            "image/png": "[encoded data removed]"
          },
          "metadata": {}
        },
        {
          "output_type": "display_data",
          "data": {
            "text/plain": [
              "<Figure size 640x480 with 1 Axes>"
            ],
            "image/png": "[encoded data removed]"
          },
          "metadata": {}
        }
      ],
      "source": [
        "# Initialize lists to store loss and accuracy values\n",
        "train_loss = []\n",
        "train_accuracy = []\n",
        "# Training loop\n",
        "for epoch in range(num_epochs):\n",
        "    model.train()  # Set the model to training mode\n",
        "    running_loss = 0.0\n",
        "    correct = 0\n",
        "    total = 0\n",
        "    for images, labels in trainloader:\n",
        "        images = images.to(device)\n",
        "        labels = labels.to(device)\n",
        "\n",
        "        optimizer.zero_grad()  # Clear gradients\n",
        "        outputs = model(images)  # Forward pass\n",
        "        loss = criterion(outputs, labels)  # Compute loss\n",
        "        loss.backward()  # Backward pass\n",
        "        optimizer.step()  # Update weights\n",
        "\n",
        "        running_loss += loss.item()\n",
        "        _, predicted = torch.max(outputs.data, 1)\n",
        "        total += labels.size(0)\n",
        "        correct += (predicted == labels).sum().item()\n",
        "\n",
        "\n",
        "    # Calculate epoch loss and accuracy\n",
        "    epoch_loss = running_loss / len(trainloader)\n",
        "    epoch_accuracy = correct / total\n",
        "\n",
        "    # Append loss and accuracy values to the lists\n",
        "    train_loss.append(epoch_loss)\n",
        "    train_accuracy.append(epoch_accuracy)\n",
        "\n",
        "    # Print the current loss after every epoch\n",
        "    print(f\"Epoch [{epoch+1}/{num_epochs}], Loss: {epoch_loss:.4f}, Accuracy: {epoch_accuracy:.4f}\")\n",
        "\n",
        "# Plot the training loss\n",
        "plt.plot(train_loss)\n",
        "plt.title(\"Training Loss\")\n",
        "plt.xlabel(\"Epoch\")\n",
        "plt.ylabel(\"Loss\")\n",
        "plt.show()\n",
        "\n",
        "# Plot the training accuracy\n",
        "plt.plot(train_accuracy)\n",
        "plt.title(\"Training Accuracy\")\n",
        "plt.xlabel(\"Epoch\")\n",
        "plt.ylabel(\"Accuracy\")\n",
        "plt.show()"
      ]
    },
    {
      "cell_type": "code",
      "execution_count": null,
      "metadata": {
        "id": "BmReS7ZloviX",
        "colab": {
          "base_uri": "https://localhost:8080/"
        },
        "outputId": "d2d2757c-5d63-4bfb-cc09-7ef00d7319bc"
      },
      "outputs": [
        {
          "output_type": "stream",
          "name": "stdout",
          "text": [
            "Test Accuracy: 91.41%\n"
          ]
        }
      ],
      "source": [
        "model.eval()  # Set the model to evaluation mode\n",
        "total_correct = 0\n",
        "total_samples = 0\n",
        "\n",
        "# Evaluate the model on the test set\n",
        "with torch.no_grad():\n",
        "    for images, labels in testloader:\n",
        "        images = images.to(device)\n",
        "        labels = labels.to(device)\n",
        "\n",
        "        outputs = model(images)\n",
        "        _, predicted = torch.max(outputs.data, 1)\n",
        "        total_samples += labels.size(0)\n",
        "        total_correct += (predicted == labels).sum().item()\n",
        "\n",
        "# Calculate the accuracy\n",
        "accuracy = 100 * total_correct / total_samples\n",
        "print(f\"Test Accuracy: {accuracy:.2f}%\")"
      ]
    },
    {
      "cell_type": "code",
      "execution_count": null,
      "metadata": {
        "id": "RXrDNGP4oviZ"
      },
      "outputs": [],
      "source": [
        "torch.save(model, CHECKPOINT_PATH)"
      ]
    },
    {
      "cell_type": "code",
      "source": [],
      "metadata": {
        "id": "GIGWiDC3KM3v"
      },
      "execution_count": null,
      "outputs": []
    }
  ],
  "metadata": {
    "accelerator": "GPU",
    "colab": {
      "gpuType": "T4",
      "provenance": []
    },
    "kernelspec": {
      "display_name": "Python 3",
      "name": "python3"
    },
    "language_info": {
      "codemirror_mode": {
        "name": "ipython",
        "version": 3
      },
      "file_extension": ".py",
      "mimetype": "text/x-python",
      "name": "python",
      "nbconvert_exporter": "python",
      "pygments_lexer": "ipython3",
      "version": "3.11.5"
    }
  },
  "nbformat": 4,
  "nbformat_minor": 0
}