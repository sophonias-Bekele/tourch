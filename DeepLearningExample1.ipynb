{
 "cells": [
  {
   "cell_type": "code",
   "execution_count": 4,
   "id": "a587cdff-621c-4ea9-8aa9-b520101da149",
   "metadata": {},
   "outputs": [],
   "source": [
    "import torch\n",
    "import torch.nn as nn"
   ]
  },
  {
   "cell_type": "code",
   "execution_count": 5,
   "id": "d952f3e7-facc-4a7b-a627-e4c2e1c99ee6",
   "metadata": {},
   "outputs": [
    {
     "data": {
      "text/plain": [
       "<torch._C.Generator at 0x7f91c5ed55d0>"
      ]
     },
     "execution_count": 5,
     "metadata": {},
     "output_type": "execute_result"
    }
   ],
   "source": [
    "torch.manual_seed(1234)"
   ]
  },
  {
   "cell_type": "code",
   "execution_count": 6,
   "id": "47825c24-1b71-4e00-b768-62e9079a679a",
   "metadata": {},
   "outputs": [],
   "source": [
    "model = nn.Sequential(\n",
    "    nn.Linear(in_features = 2, out_features = 1), \n",
    "    nn.Sigmoid()\n",
    ")"
   ]
  },
  {
   "cell_type": "markdown",
   "id": "4f8430d7-55e5-4f9a-9d2f-2399e4ebde2c",
   "metadata": {},
   "source": [
    "### Print the model architecture summary"
   ]
  },
  {
   "cell_type": "code",
   "execution_count": 10,
   "id": "f1e021e7-e91c-4129-8ed8-f6b86a6f6240",
   "metadata": {},
   "outputs": [
    {
     "name": "stdout",
     "output_type": "stream",
     "text": [
      "Model Summary:\n",
      "Layer 1: Linear(in_features=2, out_features=1, bias=True)\n",
      "Number of Parameters: <generator object <genexpr> at 0x7f91c3018790>\n",
      "\n",
      "Layer 2: Sigmoid()\n",
      "Number of Parameters: <generator object <genexpr> at 0x7f91c3018790>\n",
      "\n"
     ]
    }
   ],
   "source": [
    "print(\"Model Summary:\")\n",
    "for idx, layer in enumerate(model.children()):\n",
    "    print(f\"Layer {idx+1}: {layer}\")\n",
    "    print(f\"Number of Parameters: {p for p in layer.parameters()}\\n\")"
   ]
  },
  {
   "cell_type": "code",
   "execution_count": null,
   "id": "8a619db1-efa7-4b9f-ae72-e0f75c2ebcd6",
   "metadata": {},
   "outputs": [],
   "source": []
  }
 ],
 "metadata": {
  "kernelspec": {
   "display_name": "Python 3 (ipykernel)",
   "language": "python",
   "name": "python3"
  },
  "language_info": {
   "codemirror_mode": {
    "name": "ipython",
    "version": 3
   },
   "file_extension": ".py",
   "mimetype": "text/x-python",
   "name": "python",
   "nbconvert_exporter": "python",
   "pygments_lexer": "ipython3",
   "version": "3.11.5"
  }
 },
 "nbformat": 4,
 "nbformat_minor": 5
}
