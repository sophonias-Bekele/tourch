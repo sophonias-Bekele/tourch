{
 "cells": [
  {
   "cell_type": "markdown",
   "id": "f06d49f4",
   "metadata": {},
   "source": [
    "#### Neural Nettworks"
   ]
  },
  {
   "cell_type": "code",
   "execution_count": 4,
   "id": "6371c5c4",
   "metadata": {},
   "outputs": [],
   "source": [
    "import torch\n",
    "import torch.nn as nn"
   ]
  },
  {
   "cell_type": "code",
   "execution_count": 5,
   "id": "effac5ab",
   "metadata": {},
   "outputs": [
    {
     "name": "stdout",
     "output_type": "stream",
     "text": [
      "tensor([341.5610, 304.6591, 270.2589, 283.7715])\n"
     ]
    }
   ],
   "source": [
    "input_layer = torch.rand(10)\n",
    "\n",
    "w1 = torch.rand(10, 20)\n",
    "w2 = torch.rand(20, 20)\n",
    "w3 = torch.rand(20, 4)\n",
    "\n",
    "h1 = torch.matmul(input_layer, w1)\n",
    "h2 = torch.matmul(h1, w2)\n",
    "output_layer = torch.matmul(h2, w3)\n",
    "\n",
    "print(output_layer)"
   ]
  },
  {
   "cell_type": "markdown",
   "id": "df870606",
   "metadata": {},
   "source": [
    "#### OOP Neural Network"
   ]
  },
  {
   "cell_type": "code",
   "execution_count": 6,
   "id": "3152cfc4",
   "metadata": {},
   "outputs": [],
   "source": [
    "class Net(nn.Module):\n",
    "    def __init__(self):\n",
    "        super(Net, self).__init__()\n",
    "        self.fc1 = nn.Linear(10, 20)\n",
    "        self.fc2 = nn.Linear(20, 20)\n",
    "        self.output = nn.Linear(20, 4)\n",
    "        \n",
    "    def forward(self, x):\n",
    "        x = self.fc1(x)\n",
    "        x = self.fc2(x)\n",
    "        x = self.output(x)\n",
    "        return x"
   ]
  },
  {
   "cell_type": "code",
   "execution_count": 7,
   "id": "268d9062",
   "metadata": {},
   "outputs": [],
   "source": [
    "net = Net()\n",
    "result = net(input_layer)"
   ]
  },
  {
   "cell_type": "code",
   "execution_count": 8,
   "id": "c0791e66",
   "metadata": {},
   "outputs": [
    {
     "data": {
      "text/plain": [
       "tensor([ 0.0274, -0.1448,  0.0011, -0.1144], grad_fn=<ViewBackward0>)"
      ]
     },
     "execution_count": 8,
     "metadata": {},
     "output_type": "execute_result"
    }
   ],
   "source": [
    "result"
   ]
  },
  {
   "cell_type": "code",
   "execution_count": 9,
   "id": "c4301689",
   "metadata": {},
   "outputs": [
    {
     "name": "stdout",
     "output_type": "stream",
     "text": [
      "tensor([0.9696, 0.7527])\n"
     ]
    }
   ],
   "source": [
    "input_layer = torch.tensor([2., 1.])\n",
    "weight_1 = torch.tensor([[0.45, 0.32], [-0.12, 0.29]])\n",
    "hidden_layer = torch.matmul(input_layer, weight_1)\n",
    "weight_2 = torch.tensor([[0.48, -0.12], [0.64, 0.91]])\n",
    "output_layer = torch.matmul(hidden_layer, weight_2)\n",
    "print(output_layer)"
   ]
  },
  {
   "cell_type": "code",
   "execution_count": 10,
   "id": "c538e6a1",
   "metadata": {},
   "outputs": [
    {
     "name": "stdout",
     "output_type": "stream",
     "text": [
      "tensor([0.9696, 0.7527])\n",
      "tensor([[0.4208, 0.2372],\n",
      "        [0.1280, 0.2783]])\n"
     ]
    }
   ],
   "source": [
    "input_layer = torch.tensor([2., 1.])\n",
    "weight_1 = torch.tensor([[0.45, 0.32], [-0.12, 0.29]])\n",
    "weight_2 = torch.tensor([[0.48, -0.12], [0.64, 0.91]])\n",
    "weight = torch.matmul(weight_1, weight_2)\n",
    "output_layer = torch.matmul(input_layer, weight)\n",
    "print(output_layer)\n",
    "print(weight)"
   ]
  },
  {
   "cell_type": "code",
   "execution_count": 12,
   "id": "f2491e95",
   "metadata": {},
   "outputs": [
    {
     "name": "stdout",
     "output_type": "stream",
     "text": [
      "tensor([2., 0.])\n",
      "tensor([[2.0000, 0.0000],\n",
      "        [1.2000, 0.0000]])\n"
     ]
    }
   ],
   "source": [
    "relu = nn.ReLU()\n",
    "tensor1 = torch.tensor([2., -4.])\n",
    "print(relu(tensor1))\n",
    "tensor2 = torch.tensor([[2., -4.], [1.2, 0.]])\n",
    "print(relu(tensor2))"
   ]
  },
  {
   "cell_type": "markdown",
   "id": "393174ce",
   "metadata": {},
   "source": [
    "#### CE loss in pyTorch"
   ]
  }
 ],
 "metadata": {
  "kernelspec": {
   "display_name": "Python 3",
   "language": "python",
   "name": "python3"
  },
  "language_info": {
   "codemirror_mode": {
    "name": "ipython",
    "version": 3
   },
   "file_extension": ".py",
   "mimetype": "text/x-python",
   "name": "python",
   "nbconvert_exporter": "python",
   "pygments_lexer": "ipython3",
   "version": "3.11.5"
  }
 },
 "nbformat": 4,
 "nbformat_minor": 5
}
